{
 "cells": [
  {
   "cell_type": "code",
   "execution_count": 1,
   "id": "f776b59f",
   "metadata": {},
   "outputs": [],
   "source": [
    "def solution(number):\n",
    "    return sum([i for i in range(number) if (i % 3) == 0 or (i % 5) == 0])"
   ]
  },
  {
   "cell_type": "code",
   "execution_count": 2,
   "id": "ca6b46eb",
   "metadata": {},
   "outputs": [
    {
     "name": "stdout",
     "output_type": "stream",
     "text": [
      "[0, 3, 5, 6, 9, 10, 12]\n"
     ]
    }
   ],
   "source": [
    "number = 15\n",
    "result = 0\n",
    "\n",
    "if number < 0:\n",
    "    result = 0\n",
    "else:\n",
    "    result = [i for i in range(number) if (i % 3) == 0 or (i % 5) == 0]\n",
    "    #result = sum([i for i in range(number) if (i % 3) == 0 or (i % 5) == 0])\n",
    "    \n",
    "print(result)"
   ]
  },
  {
   "cell_type": "code",
   "execution_count": null,
   "id": "c83b12a2",
   "metadata": {},
   "outputs": [],
   "source": []
  }
 ],
 "metadata": {
  "kernelspec": {
   "display_name": "Python [conda env:.conda-m1_ih]",
   "language": "python",
   "name": "conda-env-.conda-m1_ih-py"
  },
  "language_info": {
   "codemirror_mode": {
    "name": "ipython",
    "version": 3
   },
   "file_extension": ".py",
   "mimetype": "text/x-python",
   "name": "python",
   "nbconvert_exporter": "python",
   "pygments_lexer": "ipython3",
   "version": "3.9.12"
  }
 },
 "nbformat": 4,
 "nbformat_minor": 5
}
