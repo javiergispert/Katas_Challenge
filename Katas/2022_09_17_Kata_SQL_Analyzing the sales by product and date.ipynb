{
 "cells": [
  {
   "cell_type": "code",
   "execution_count": null,
   "id": "1176e1e0",
   "metadata": {},
   "outputs": [],
   "source": [
    "SELECT \n",
    "   products.name AS product_name, EXTRACT (YEAR FROM sales.date) AS year, EXTRACT (MONTH FROM sales.date) AS month,\n",
    "   EXTRACT (DAY FROM sales.date) AS day,\n",
    "   SUM (sales_details.count * products.price) AS total\n",
    "FROM sales_details\n",
    "   INNER Join Sales ON sales_details.sale_id=sales.id\n",
    "   INNER JOIN products ON sales_details.product_id=products.id\n",
    "   GROUP BY products.name, ROLLUP (year, month, day)\n",
    "ORDER BY products.name, year, month, day;"
   ]
  }
 ],
 "metadata": {
  "kernelspec": {
   "display_name": "Python [conda env:.conda-m1_ih]",
   "language": "python",
   "name": "conda-env-.conda-m1_ih-py"
  },
  "language_info": {
   "codemirror_mode": {
    "name": "ipython",
    "version": 3
   },
   "file_extension": ".py",
   "mimetype": "text/x-python",
   "name": "python",
   "nbconvert_exporter": "python",
   "pygments_lexer": "ipython3",
   "version": "3.9.12"
  }
 },
 "nbformat": 4,
 "nbformat_minor": 5
}
